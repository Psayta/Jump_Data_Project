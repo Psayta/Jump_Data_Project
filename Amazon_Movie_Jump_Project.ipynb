{
 "cells": [
  {
   "cell_type": "code",
   "execution_count": null,
   "metadata": {
    "colab": {
     "base_uri": "https://localhost:8080/"
    },
    "id": "-Ia2IAlaLYQh",
    "outputId": "4954e148-39bf-4b2d-9ce6-09e8073933cd"
   },
   "outputs": [
    {
     "name": "stdout",
     "output_type": "stream",
     "text": [
      "Drive already mounted at /content/gdrive; to attempt to forcibly remount, call drive.mount(\"/content/gdrive\", force_remount=True).\n",
      "        ID      MOVIE_NAME LANGUAGE  ...  YEAR_OF_RELEASE  MATURITY_RATING MINUTES\n",
      "0        0      John Rambo    Tamil  ...             2008              18+    86.0\n",
      "1        1    American Pie  English  ...             1999              18+    95.0\n",
      "2        2       Bombshell  English  ...             2019              18+   108.0\n",
      "3        3      Love Birds    Tamil  ...             1996              All   160.0\n",
      "4        4           Hippi   Telugu  ...             2019              18+   140.0\n",
      "...    ...             ...      ...  ...              ...              ...     ...\n",
      "5752  7683      Pithamagan    Tamil  ...             2003              All   139.0\n",
      "5753  7684        Mamangam    Hindi  ...             2019              13+   156.0\n",
      "5754  7686  Gang Of Ghosts    Hindi  ...             2014              13+   121.0\n",
      "5755  7688         Astitva  Marathi  ...             2000              18+   110.0\n",
      "5756  7689  Black and Blue    Tamil  ...             2019              18+   107.0\n",
      "\n",
      "[5757 rows x 7 columns]\n"
     ]
    }
   ],
   "source": [
    "import pandas as pd\n",
    "import os\n",
    "from scipy import stats\n",
    "import numpy as np\n",
    "import seaborn as sns \n",
    "\n",
    "import matplotlib.pyplot as plt\n",
    "import math\n",
    "\n",
    "#Uses dataset that was clean through Pyton and \n",
    "df_clean = pd.read_csv('/content/gdrive/My Drive/Colab Datasets/Amazon_movies_final.csv')\n",
    "print(df_clean)"
   ]
  },
  {
   "cell_type": "code",
   "execution_count": null,
   "metadata": {
    "colab": {
     "base_uri": "https://localhost:8080/"
    },
    "id": "hWhNTbLOM9B6",
    "outputId": "50fefabb-a846-4be7-875f-a26d032dc9f8"
   },
   "outputs": [
    {
     "name": "stdout",
     "output_type": "stream",
     "text": [
      "<class 'pandas.core.frame.DataFrame'>\n",
      "RangeIndex: 5757 entries, 0 to 5756\n",
      "Data columns (total 7 columns):\n",
      " #   Column           Non-Null Count  Dtype  \n",
      "---  ------           --------------  -----  \n",
      " 0   ID               5757 non-null   int64  \n",
      " 1   MOVIE_NAME       5757 non-null   object \n",
      " 2   LANGUAGE         5757 non-null   object \n",
      " 3   IMDB_RATING      5757 non-null   float64\n",
      " 4   YEAR_OF_RELEASE  5757 non-null   int64  \n",
      " 5   MATURITY_RATING  5757 non-null   object \n",
      " 6   MINUTES          5743 non-null   float64\n",
      "dtypes: float64(2), int64(2), object(3)\n",
      "memory usage: 315.0+ KB\n"
     ]
    }
   ],
   "source": [
    "df_clean.info()"
   ]
  },
  {
   "cell_type": "code",
   "execution_count": null,
   "metadata": {
    "colab": {
     "base_uri": "https://localhost:8080/",
     "height": 419
    },
    "id": "P0yBol30PG_U",
    "outputId": "9e59ae11-84bc-479c-ee90-9bc5f95c8379"
   },
   "outputs": [
    {
     "data": {
      "text/html": [
       "<div>\n",
       "<style scoped>\n",
       "    .dataframe tbody tr th:only-of-type {\n",
       "        vertical-align: middle;\n",
       "    }\n",
       "\n",
       "    .dataframe tbody tr th {\n",
       "        vertical-align: top;\n",
       "    }\n",
       "\n",
       "    .dataframe thead th {\n",
       "        text-align: right;\n",
       "    }\n",
       "</style>\n",
       "<table border=\"1\" class=\"dataframe\">\n",
       "  <thead>\n",
       "    <tr style=\"text-align: right;\">\n",
       "      <th></th>\n",
       "      <th>ID</th>\n",
       "      <th>MOVIE_NAME</th>\n",
       "      <th>LANGUAGE</th>\n",
       "      <th>IMDB_RATING</th>\n",
       "      <th>YEAR_OF_RELEASE</th>\n",
       "      <th>MATURITY_RATING</th>\n",
       "      <th>MINUTES</th>\n",
       "    </tr>\n",
       "  </thead>\n",
       "  <tbody>\n",
       "    <tr>\n",
       "      <th>3</th>\n",
       "      <td>3</td>\n",
       "      <td>Love Birds</td>\n",
       "      <td>Tamil</td>\n",
       "      <td>5.1</td>\n",
       "      <td>1996</td>\n",
       "      <td>All</td>\n",
       "      <td>160.0</td>\n",
       "    </tr>\n",
       "    <tr>\n",
       "      <th>5</th>\n",
       "      <td>6</td>\n",
       "      <td>Ayyaa</td>\n",
       "      <td>Tamil</td>\n",
       "      <td>5.7</td>\n",
       "      <td>2005</td>\n",
       "      <td>All</td>\n",
       "      <td>159.0</td>\n",
       "    </tr>\n",
       "    <tr>\n",
       "      <th>8</th>\n",
       "      <td>10</td>\n",
       "      <td>Tum Se Achcha Kaun Hai</td>\n",
       "      <td>Hindi</td>\n",
       "      <td>4.5</td>\n",
       "      <td>2002</td>\n",
       "      <td>All</td>\n",
       "      <td>141.0</td>\n",
       "    </tr>\n",
       "    <tr>\n",
       "      <th>9</th>\n",
       "      <td>11</td>\n",
       "      <td>Swamy</td>\n",
       "      <td>Kannada</td>\n",
       "      <td>6.0</td>\n",
       "      <td>2005</td>\n",
       "      <td>All</td>\n",
       "      <td>154.0</td>\n",
       "    </tr>\n",
       "    <tr>\n",
       "      <th>10</th>\n",
       "      <td>12</td>\n",
       "      <td>Ekkees Tareekh Shubh Muhurat</td>\n",
       "      <td>Hindi</td>\n",
       "      <td>5.7</td>\n",
       "      <td>2018</td>\n",
       "      <td>All</td>\n",
       "      <td>93.0</td>\n",
       "    </tr>\n",
       "    <tr>\n",
       "      <th>...</th>\n",
       "      <td>...</td>\n",
       "      <td>...</td>\n",
       "      <td>...</td>\n",
       "      <td>...</td>\n",
       "      <td>...</td>\n",
       "      <td>...</td>\n",
       "      <td>...</td>\n",
       "    </tr>\n",
       "    <tr>\n",
       "      <th>5739</th>\n",
       "      <td>7665</td>\n",
       "      <td>Ringa Ringa</td>\n",
       "      <td>Marathi</td>\n",
       "      <td>6.8</td>\n",
       "      <td>2010</td>\n",
       "      <td>All</td>\n",
       "      <td>106.0</td>\n",
       "    </tr>\n",
       "    <tr>\n",
       "      <th>5743</th>\n",
       "      <td>7673</td>\n",
       "      <td>Bhargava Ramudu</td>\n",
       "      <td>Telugu</td>\n",
       "      <td>7.6</td>\n",
       "      <td>1987</td>\n",
       "      <td>All</td>\n",
       "      <td>135.0</td>\n",
       "    </tr>\n",
       "    <tr>\n",
       "      <th>5748</th>\n",
       "      <td>7678</td>\n",
       "      <td>Aayirappara</td>\n",
       "      <td>Malayalam</td>\n",
       "      <td>6.1</td>\n",
       "      <td>1993</td>\n",
       "      <td>All</td>\n",
       "      <td>142.0</td>\n",
       "    </tr>\n",
       "    <tr>\n",
       "      <th>5751</th>\n",
       "      <td>7681</td>\n",
       "      <td>Kabhi Khushi Kabhie Gham</td>\n",
       "      <td>Hindi</td>\n",
       "      <td>7.4</td>\n",
       "      <td>2001</td>\n",
       "      <td>All</td>\n",
       "      <td>209.0</td>\n",
       "    </tr>\n",
       "    <tr>\n",
       "      <th>5752</th>\n",
       "      <td>7683</td>\n",
       "      <td>Pithamagan</td>\n",
       "      <td>Tamil</td>\n",
       "      <td>8.3</td>\n",
       "      <td>2003</td>\n",
       "      <td>All</td>\n",
       "      <td>139.0</td>\n",
       "    </tr>\n",
       "  </tbody>\n",
       "</table>\n",
       "<p>1359 rows × 7 columns</p>\n",
       "</div>"
      ],
      "text/plain": [
       "        ID                    MOVIE_NAME  ... MATURITY_RATING  MINUTES\n",
       "3        3                    Love Birds  ...             All    160.0\n",
       "5        6                         Ayyaa  ...             All    159.0\n",
       "8       10        Tum Se Achcha Kaun Hai  ...             All    141.0\n",
       "9       11                         Swamy  ...             All    154.0\n",
       "10      12  Ekkees Tareekh Shubh Muhurat  ...             All     93.0\n",
       "...    ...                           ...  ...             ...      ...\n",
       "5739  7665                   Ringa Ringa  ...             All    106.0\n",
       "5743  7673               Bhargava Ramudu  ...             All    135.0\n",
       "5748  7678                   Aayirappara  ...             All    142.0\n",
       "5751  7681      Kabhi Khushi Kabhie Gham  ...             All    209.0\n",
       "5752  7683                    Pithamagan  ...             All    139.0\n",
       "\n",
       "[1359 rows x 7 columns]"
      ]
     },
     "execution_count": 4,
     "metadata": {
      "tags": []
     },
     "output_type": "execute_result"
    }
   ],
   "source": [
    "#Create a dataframe with maturity rating for all age groups\n",
    "df_maturity_rating = df_clean[df_clean['MATURITY_RATING'] == 'All']\n",
    "df_maturity_rating"
   ]
  },
  {
   "cell_type": "code",
   "execution_count": null,
   "metadata": {
    "colab": {
     "base_uri": "https://localhost:8080/",
     "height": 390
    },
    "id": "ULAJ939fPco2",
    "outputId": "ff7faae5-b07a-4cef-f20b-c5d6b532be89"
   },
   "outputs": [
    {
     "data": {
      "text/html": [
       "<div>\n",
       "<style scoped>\n",
       "    .dataframe tbody tr th:only-of-type {\n",
       "        vertical-align: middle;\n",
       "    }\n",
       "\n",
       "    .dataframe tbody tr th {\n",
       "        vertical-align: top;\n",
       "    }\n",
       "\n",
       "    .dataframe thead th {\n",
       "        text-align: right;\n",
       "    }\n",
       "</style>\n",
       "<table border=\"1\" class=\"dataframe\">\n",
       "  <thead>\n",
       "    <tr style=\"text-align: right;\">\n",
       "      <th></th>\n",
       "      <th>ID</th>\n",
       "      <th>MOVIE_NAME</th>\n",
       "      <th>IMDB_RATING</th>\n",
       "      <th>YEAR_OF_RELEASE</th>\n",
       "      <th>MATURITY_RATING</th>\n",
       "      <th>MINUTES</th>\n",
       "    </tr>\n",
       "    <tr>\n",
       "      <th>LANGUAGE</th>\n",
       "      <th></th>\n",
       "      <th></th>\n",
       "      <th></th>\n",
       "      <th></th>\n",
       "      <th></th>\n",
       "      <th></th>\n",
       "    </tr>\n",
       "  </thead>\n",
       "  <tbody>\n",
       "    <tr>\n",
       "      <th>Bengali</th>\n",
       "      <td>512</td>\n",
       "      <td>512</td>\n",
       "      <td>512</td>\n",
       "      <td>512</td>\n",
       "      <td>512</td>\n",
       "      <td>511</td>\n",
       "    </tr>\n",
       "    <tr>\n",
       "      <th>English</th>\n",
       "      <td>1293</td>\n",
       "      <td>1293</td>\n",
       "      <td>1293</td>\n",
       "      <td>1293</td>\n",
       "      <td>1293</td>\n",
       "      <td>1291</td>\n",
       "    </tr>\n",
       "    <tr>\n",
       "      <th>Gujarati</th>\n",
       "      <td>73</td>\n",
       "      <td>73</td>\n",
       "      <td>73</td>\n",
       "      <td>73</td>\n",
       "      <td>73</td>\n",
       "      <td>73</td>\n",
       "    </tr>\n",
       "    <tr>\n",
       "      <th>Hindi</th>\n",
       "      <td>1511</td>\n",
       "      <td>1511</td>\n",
       "      <td>1511</td>\n",
       "      <td>1511</td>\n",
       "      <td>1511</td>\n",
       "      <td>1508</td>\n",
       "    </tr>\n",
       "    <tr>\n",
       "      <th>Kannada</th>\n",
       "      <td>250</td>\n",
       "      <td>250</td>\n",
       "      <td>250</td>\n",
       "      <td>250</td>\n",
       "      <td>250</td>\n",
       "      <td>250</td>\n",
       "    </tr>\n",
       "    <tr>\n",
       "      <th>Malayalam</th>\n",
       "      <td>429</td>\n",
       "      <td>429</td>\n",
       "      <td>429</td>\n",
       "      <td>429</td>\n",
       "      <td>429</td>\n",
       "      <td>429</td>\n",
       "    </tr>\n",
       "    <tr>\n",
       "      <th>Marathi</th>\n",
       "      <td>305</td>\n",
       "      <td>305</td>\n",
       "      <td>305</td>\n",
       "      <td>305</td>\n",
       "      <td>305</td>\n",
       "      <td>299</td>\n",
       "    </tr>\n",
       "    <tr>\n",
       "      <th>Punjabi</th>\n",
       "      <td>118</td>\n",
       "      <td>118</td>\n",
       "      <td>118</td>\n",
       "      <td>118</td>\n",
       "      <td>118</td>\n",
       "      <td>116</td>\n",
       "    </tr>\n",
       "    <tr>\n",
       "      <th>Tamil</th>\n",
       "      <td>584</td>\n",
       "      <td>584</td>\n",
       "      <td>584</td>\n",
       "      <td>584</td>\n",
       "      <td>584</td>\n",
       "      <td>584</td>\n",
       "    </tr>\n",
       "    <tr>\n",
       "      <th>Telugu</th>\n",
       "      <td>682</td>\n",
       "      <td>682</td>\n",
       "      <td>682</td>\n",
       "      <td>682</td>\n",
       "      <td>682</td>\n",
       "      <td>682</td>\n",
       "    </tr>\n",
       "  </tbody>\n",
       "</table>\n",
       "</div>"
      ],
      "text/plain": [
       "             ID  MOVIE_NAME  ...  MATURITY_RATING  MINUTES\n",
       "LANGUAGE                     ...                          \n",
       "Bengali     512         512  ...              512      511\n",
       "English    1293        1293  ...             1293     1291\n",
       "Gujarati     73          73  ...               73       73\n",
       "Hindi      1511        1511  ...             1511     1508\n",
       "Kannada     250         250  ...              250      250\n",
       "Malayalam   429         429  ...              429      429\n",
       "Marathi     305         305  ...              305      299\n",
       "Punjabi     118         118  ...              118      116\n",
       "Tamil       584         584  ...              584      584\n",
       "Telugu      682         682  ...              682      682\n",
       "\n",
       "[10 rows x 6 columns]"
      ]
     },
     "execution_count": 5,
     "metadata": {
      "tags": []
     },
     "output_type": "execute_result"
    }
   ],
   "source": [
    "#counts all the movies by languages its available in \n",
    "language_df = df_clean.groupby(\"LANGUAGE\").count()\n",
    "language_df"
   ]
  },
  {
   "cell_type": "code",
   "execution_count": null,
   "metadata": {
    "colab": {
     "base_uri": "https://localhost:8080/",
     "height": 248
    },
    "id": "Oh5UDkjPPf_f",
    "outputId": "18431b7a-d13d-44ad-eada-0f2920980572"
   },
   "outputs": [
    {
     "data": {
      "image/png": "[encoded data removed]",
      "text/plain": [
       "<Figure size 432x288 with 1 Axes>"
      ]
     },
     "metadata": {
      "tags": []
     },
     "output_type": "display_data"
    }
   ],
   "source": [
    "#Pie chart to show the distribution of movies for each language\n",
    "plt.pie(language_df[\"MOVIE_NAME\"], labels= language_df.index)\n",
    "plt.show()"
   ]
  },
  {
   "cell_type": "code",
   "execution_count": null,
   "metadata": {
    "colab": {
     "base_uri": "https://localhost:8080/",
     "height": 419
    },
    "id": "nbkkU1qJNDLM",
    "outputId": "cc090d12-c0bf-41cb-d0ef-4ec8e491151b"
   },
   "outputs": [
    {
     "data": {
      "text/html": [
       "<div>\n",
       "<style scoped>\n",
       "    .dataframe tbody tr th:only-of-type {\n",
       "        vertical-align: middle;\n",
       "    }\n",
       "\n",
       "    .dataframe tbody tr th {\n",
       "        vertical-align: top;\n",
       "    }\n",
       "\n",
       "    .dataframe thead th {\n",
       "        text-align: right;\n",
       "    }\n",
       "</style>\n",
       "<table border=\"1\" class=\"dataframe\">\n",
       "  <thead>\n",
       "    <tr style=\"text-align: right;\">\n",
       "      <th></th>\n",
       "      <th>ID</th>\n",
       "      <th>MOVIE_NAME</th>\n",
       "      <th>LANGUAGE</th>\n",
       "      <th>IMDB_RATING</th>\n",
       "      <th>YEAR_OF_RELEASE</th>\n",
       "      <th>MATURITY_RATING</th>\n",
       "      <th>MINUTES</th>\n",
       "    </tr>\n",
       "  </thead>\n",
       "  <tbody>\n",
       "    <tr>\n",
       "      <th>1</th>\n",
       "      <td>1</td>\n",
       "      <td>American Pie</td>\n",
       "      <td>English</td>\n",
       "      <td>7.0</td>\n",
       "      <td>1999</td>\n",
       "      <td>18+</td>\n",
       "      <td>95.0</td>\n",
       "    </tr>\n",
       "    <tr>\n",
       "      <th>2</th>\n",
       "      <td>2</td>\n",
       "      <td>Bombshell</td>\n",
       "      <td>English</td>\n",
       "      <td>6.8</td>\n",
       "      <td>2019</td>\n",
       "      <td>18+</td>\n",
       "      <td>108.0</td>\n",
       "    </tr>\n",
       "    <tr>\n",
       "      <th>11</th>\n",
       "      <td>13</td>\n",
       "      <td>Sealers: One Last Hunt</td>\n",
       "      <td>English</td>\n",
       "      <td>7.7</td>\n",
       "      <td>2020</td>\n",
       "      <td>13+</td>\n",
       "      <td>56.0</td>\n",
       "    </tr>\n",
       "    <tr>\n",
       "      <th>12</th>\n",
       "      <td>15</td>\n",
       "      <td>Project Almanac</td>\n",
       "      <td>English</td>\n",
       "      <td>6.4</td>\n",
       "      <td>2015</td>\n",
       "      <td>13+</td>\n",
       "      <td>106.0</td>\n",
       "    </tr>\n",
       "    <tr>\n",
       "      <th>13</th>\n",
       "      <td>17</td>\n",
       "      <td>Ghost Stories</td>\n",
       "      <td>English</td>\n",
       "      <td>6.4</td>\n",
       "      <td>2018</td>\n",
       "      <td>18+</td>\n",
       "      <td>93.0</td>\n",
       "    </tr>\n",
       "    <tr>\n",
       "      <th>...</th>\n",
       "      <td>...</td>\n",
       "      <td>...</td>\n",
       "      <td>...</td>\n",
       "      <td>...</td>\n",
       "      <td>...</td>\n",
       "      <td>...</td>\n",
       "      <td>...</td>\n",
       "    </tr>\n",
       "    <tr>\n",
       "      <th>5725</th>\n",
       "      <td>7644</td>\n",
       "      <td>Jimmy Vestvood: Amerikan Hero</td>\n",
       "      <td>English</td>\n",
       "      <td>5.2</td>\n",
       "      <td>2016</td>\n",
       "      <td>16+</td>\n",
       "      <td>83.0</td>\n",
       "    </tr>\n",
       "    <tr>\n",
       "      <th>5736</th>\n",
       "      <td>7662</td>\n",
       "      <td>What's Your Number?</td>\n",
       "      <td>English</td>\n",
       "      <td>6.1</td>\n",
       "      <td>2011</td>\n",
       "      <td>18+</td>\n",
       "      <td>106.0</td>\n",
       "    </tr>\n",
       "    <tr>\n",
       "      <th>5738</th>\n",
       "      <td>7664</td>\n",
       "      <td>Lila &amp; Eve</td>\n",
       "      <td>English</td>\n",
       "      <td>5.8</td>\n",
       "      <td>2015</td>\n",
       "      <td>16+</td>\n",
       "      <td>93.0</td>\n",
       "    </tr>\n",
       "    <tr>\n",
       "      <th>5741</th>\n",
       "      <td>7669</td>\n",
       "      <td>Lights Out</td>\n",
       "      <td>English</td>\n",
       "      <td>6.3</td>\n",
       "      <td>2016</td>\n",
       "      <td>18+</td>\n",
       "      <td>80.0</td>\n",
       "    </tr>\n",
       "    <tr>\n",
       "      <th>5742</th>\n",
       "      <td>7671</td>\n",
       "      <td>Howl</td>\n",
       "      <td>English</td>\n",
       "      <td>5.4</td>\n",
       "      <td>2015</td>\n",
       "      <td>18+</td>\n",
       "      <td>92.0</td>\n",
       "    </tr>\n",
       "  </tbody>\n",
       "</table>\n",
       "<p>1293 rows × 7 columns</p>\n",
       "</div>"
      ],
      "text/plain": [
       "        ID                     MOVIE_NAME  ... MATURITY_RATING  MINUTES\n",
       "1        1                   American Pie  ...             18+     95.0\n",
       "2        2                      Bombshell  ...             18+    108.0\n",
       "11      13         Sealers: One Last Hunt  ...             13+     56.0\n",
       "12      15                Project Almanac  ...             13+    106.0\n",
       "13      17                  Ghost Stories  ...             18+     93.0\n",
       "...    ...                            ...  ...             ...      ...\n",
       "5725  7644  Jimmy Vestvood: Amerikan Hero  ...             16+     83.0\n",
       "5736  7662            What's Your Number?  ...             18+    106.0\n",
       "5738  7664                     Lila & Eve  ...             16+     93.0\n",
       "5741  7669                     Lights Out  ...             18+     80.0\n",
       "5742  7671                           Howl  ...             18+     92.0\n",
       "\n",
       "[1293 rows x 7 columns]"
      ]
     },
     "execution_count": 7,
     "metadata": {
      "tags": []
     },
     "output_type": "execute_result"
    }
   ],
   "source": [
    "#Create a dataframe with only movies in English\n",
    "df_english = df_clean[df_clean[\"LANGUAGE\"] == \"English\"]\n",
    "df_english"
   ]
  },
  {
   "cell_type": "code",
   "execution_count": null,
   "metadata": {
    "colab": {
     "base_uri": "https://localhost:8080/"
    },
    "id": "65bv5f4lNaNF",
    "outputId": "beaf72f9-e57e-4538-c6f3-c58f39c8e294"
   },
   "outputs": [
    {
     "data": {
      "text/plain": [
       "6.336194895591648"
      ]
     },
     "execution_count": 8,
     "metadata": {
      "tags": []
     },
     "output_type": "execute_result"
    }
   ],
   "source": [
    "#Average rating for movies in English\n",
    "avg_english_rating = df_english[\"IMDB_RATING\"].mean()\n",
    "avg_english_rating"
   ]
  },
  {
   "cell_type": "code",
   "execution_count": null,
   "metadata": {
    "colab": {
     "base_uri": "https://localhost:8080/",
     "height": 419
    },
    "id": "7S6sEhnFNnba",
    "outputId": "1f5260d9-7933-4bfa-d3d2-2cdbbb81ad47"
   },
   "outputs": [
    {
     "data": {
      "text/html": [
       "<div>\n",
       "<style scoped>\n",
       "    .dataframe tbody tr th:only-of-type {\n",
       "        vertical-align: middle;\n",
       "    }\n",
       "\n",
       "    .dataframe tbody tr th {\n",
       "        vertical-align: top;\n",
       "    }\n",
       "\n",
       "    .dataframe thead th {\n",
       "        text-align: right;\n",
       "    }\n",
       "</style>\n",
       "<table border=\"1\" class=\"dataframe\">\n",
       "  <thead>\n",
       "    <tr style=\"text-align: right;\">\n",
       "      <th></th>\n",
       "      <th>ID</th>\n",
       "      <th>MOVIE_NAME</th>\n",
       "      <th>LANGUAGE</th>\n",
       "      <th>IMDB_RATING</th>\n",
       "      <th>YEAR_OF_RELEASE</th>\n",
       "      <th>MATURITY_RATING</th>\n",
       "      <th>MINUTES</th>\n",
       "    </tr>\n",
       "  </thead>\n",
       "  <tbody>\n",
       "    <tr>\n",
       "      <th>36</th>\n",
       "      <td>49</td>\n",
       "      <td>Teen Cup Chaa</td>\n",
       "      <td>Bengali</td>\n",
       "      <td>5.7</td>\n",
       "      <td>2018</td>\n",
       "      <td>13+</td>\n",
       "      <td>47.0</td>\n",
       "    </tr>\n",
       "    <tr>\n",
       "      <th>40</th>\n",
       "      <td>56</td>\n",
       "      <td>Dash Mash Dash Diner Galpo</td>\n",
       "      <td>Bengali</td>\n",
       "      <td>5.7</td>\n",
       "      <td>2019</td>\n",
       "      <td>All</td>\n",
       "      <td>114.0</td>\n",
       "    </tr>\n",
       "    <tr>\n",
       "      <th>67</th>\n",
       "      <td>99</td>\n",
       "      <td>Baba Taraknath</td>\n",
       "      <td>Bengali</td>\n",
       "      <td>5.5</td>\n",
       "      <td>1977</td>\n",
       "      <td>All</td>\n",
       "      <td>150.0</td>\n",
       "    </tr>\n",
       "    <tr>\n",
       "      <th>68</th>\n",
       "      <td>100</td>\n",
       "      <td>Rajlakshmi O Srikanta</td>\n",
       "      <td>Bengali</td>\n",
       "      <td>6.2</td>\n",
       "      <td>2017</td>\n",
       "      <td>13+</td>\n",
       "      <td>132.0</td>\n",
       "    </tr>\n",
       "    <tr>\n",
       "      <th>90</th>\n",
       "      <td>133</td>\n",
       "      <td>Autograph</td>\n",
       "      <td>Bengali</td>\n",
       "      <td>7.4</td>\n",
       "      <td>2017</td>\n",
       "      <td>13+</td>\n",
       "      <td>132.0</td>\n",
       "    </tr>\n",
       "    <tr>\n",
       "      <th>...</th>\n",
       "      <td>...</td>\n",
       "      <td>...</td>\n",
       "      <td>...</td>\n",
       "      <td>...</td>\n",
       "      <td>...</td>\n",
       "      <td>...</td>\n",
       "      <td>...</td>\n",
       "    </tr>\n",
       "    <tr>\n",
       "      <th>5726</th>\n",
       "      <td>7645</td>\n",
       "      <td>Agni Kanya</td>\n",
       "      <td>Bengali</td>\n",
       "      <td>7.4</td>\n",
       "      <td>1990</td>\n",
       "      <td>NR</td>\n",
       "      <td>115.0</td>\n",
       "    </tr>\n",
       "    <tr>\n",
       "      <th>5734</th>\n",
       "      <td>7659</td>\n",
       "      <td>Baghini</td>\n",
       "      <td>Bengali</td>\n",
       "      <td>7.7</td>\n",
       "      <td>2017</td>\n",
       "      <td>13+</td>\n",
       "      <td>143.0</td>\n",
       "    </tr>\n",
       "    <tr>\n",
       "      <th>5744</th>\n",
       "      <td>7674</td>\n",
       "      <td>Shob Charitro Kalponik</td>\n",
       "      <td>Bengali</td>\n",
       "      <td>6.8</td>\n",
       "      <td>2018</td>\n",
       "      <td>13+</td>\n",
       "      <td>97.0</td>\n",
       "    </tr>\n",
       "    <tr>\n",
       "      <th>5746</th>\n",
       "      <td>7676</td>\n",
       "      <td>Sultan -  The Saviour</td>\n",
       "      <td>Bengali</td>\n",
       "      <td>5.5</td>\n",
       "      <td>2018</td>\n",
       "      <td>13+</td>\n",
       "      <td>160.0</td>\n",
       "    </tr>\n",
       "    <tr>\n",
       "      <th>5747</th>\n",
       "      <td>7677</td>\n",
       "      <td>Top Cat</td>\n",
       "      <td>Bengali</td>\n",
       "      <td>4.6</td>\n",
       "      <td>2012</td>\n",
       "      <td>13+</td>\n",
       "      <td>86.0</td>\n",
       "    </tr>\n",
       "  </tbody>\n",
       "</table>\n",
       "<p>512 rows × 7 columns</p>\n",
       "</div>"
      ],
      "text/plain": [
       "        ID                  MOVIE_NAME  ... MATURITY_RATING  MINUTES\n",
       "36      49               Teen Cup Chaa  ...             13+     47.0\n",
       "40      56  Dash Mash Dash Diner Galpo  ...             All    114.0\n",
       "67      99              Baba Taraknath  ...             All    150.0\n",
       "68     100       Rajlakshmi O Srikanta  ...             13+    132.0\n",
       "90     133                   Autograph  ...             13+    132.0\n",
       "...    ...                         ...  ...             ...      ...\n",
       "5726  7645                  Agni Kanya  ...              NR    115.0\n",
       "5734  7659                     Baghini  ...             13+    143.0\n",
       "5744  7674      Shob Charitro Kalponik  ...             13+     97.0\n",
       "5746  7676       Sultan -  The Saviour  ...             13+    160.0\n",
       "5747  7677                     Top Cat  ...             13+     86.0\n",
       "\n",
       "[512 rows x 7 columns]"
      ]
     },
     "execution_count": 9,
     "metadata": {
      "tags": []
     },
     "output_type": "execute_result"
    }
   ],
   "source": [
    "#Create a dataframe with only movies in Bengali\n",
    "df_bengali = df_clean[df_clean[\"LANGUAGE\"] == \"Bengali\"]\n",
    "df_bengali"
   ]
  },
  {
   "cell_type": "code",
   "execution_count": null,
   "metadata": {
    "colab": {
     "base_uri": "https://localhost:8080/"
    },
    "id": "VTIWjgFBONEW",
    "outputId": "adb6fe11-8ac2-43ef-ae58-087e23e701fd"
   },
   "outputs": [
    {
     "data": {
      "text/plain": [
       "6.5294921875"
      ]
     },
     "execution_count": 10,
     "metadata": {
      "tags": []
     },
     "output_type": "execute_result"
    }
   ],
   "source": [
    "#Average rating for movies in Bengali\n",
    "avg_bengali_rating = df_bengali[\"IMDB_RATING\"].mean()\n",
    "avg_bengali_rating"
   ]
  },
  {
   "cell_type": "code",
   "execution_count": null,
   "metadata": {
    "colab": {
     "base_uri": "https://localhost:8080/",
     "height": 419
    },
    "id": "5E7e447nN0mb",
    "outputId": "7167ba95-2bfe-4817-ed0e-6deee8d2c530"
   },
   "outputs": [
    {
     "data": {
      "text/html": [
       "<div>\n",
       "<style scoped>\n",
       "    .dataframe tbody tr th:only-of-type {\n",
       "        vertical-align: middle;\n",
       "    }\n",
       "\n",
       "    .dataframe tbody tr th {\n",
       "        vertical-align: top;\n",
       "    }\n",
       "\n",
       "    .dataframe thead th {\n",
       "        text-align: right;\n",
       "    }\n",
       "</style>\n",
       "<table border=\"1\" class=\"dataframe\">\n",
       "  <thead>\n",
       "    <tr style=\"text-align: right;\">\n",
       "      <th></th>\n",
       "      <th>ID</th>\n",
       "      <th>MOVIE_NAME</th>\n",
       "      <th>LANGUAGE</th>\n",
       "      <th>IMDB_RATING</th>\n",
       "      <th>YEAR_OF_RELEASE</th>\n",
       "      <th>MATURITY_RATING</th>\n",
       "      <th>MINUTES</th>\n",
       "    </tr>\n",
       "  </thead>\n",
       "  <tbody>\n",
       "    <tr>\n",
       "      <th>4</th>\n",
       "      <td>4</td>\n",
       "      <td>Hippi</td>\n",
       "      <td>Telugu</td>\n",
       "      <td>5.0</td>\n",
       "      <td>2019</td>\n",
       "      <td>18+</td>\n",
       "      <td>140.0</td>\n",
       "    </tr>\n",
       "    <tr>\n",
       "      <th>24</th>\n",
       "      <td>33</td>\n",
       "      <td>Sketch</td>\n",
       "      <td>Telugu</td>\n",
       "      <td>5.7</td>\n",
       "      <td>2018</td>\n",
       "      <td>13+</td>\n",
       "      <td>133.0</td>\n",
       "    </tr>\n",
       "    <tr>\n",
       "      <th>69</th>\n",
       "      <td>101</td>\n",
       "      <td>Surya IPS</td>\n",
       "      <td>Telugu</td>\n",
       "      <td>6.9</td>\n",
       "      <td>1991</td>\n",
       "      <td>NR</td>\n",
       "      <td>143.0</td>\n",
       "    </tr>\n",
       "    <tr>\n",
       "      <th>75</th>\n",
       "      <td>109</td>\n",
       "      <td>Universal Soldier: Day of Reckoning</td>\n",
       "      <td>Telugu</td>\n",
       "      <td>5.0</td>\n",
       "      <td>2012</td>\n",
       "      <td>18+</td>\n",
       "      <td>105.0</td>\n",
       "    </tr>\n",
       "    <tr>\n",
       "      <th>78</th>\n",
       "      <td>113</td>\n",
       "      <td>Dare</td>\n",
       "      <td>Telugu</td>\n",
       "      <td>5.8</td>\n",
       "      <td>2011</td>\n",
       "      <td>NR</td>\n",
       "      <td>145.0</td>\n",
       "    </tr>\n",
       "    <tr>\n",
       "      <th>...</th>\n",
       "      <td>...</td>\n",
       "      <td>...</td>\n",
       "      <td>...</td>\n",
       "      <td>...</td>\n",
       "      <td>...</td>\n",
       "      <td>...</td>\n",
       "      <td>...</td>\n",
       "    </tr>\n",
       "    <tr>\n",
       "      <th>5724</th>\n",
       "      <td>7643</td>\n",
       "      <td>Ashoka Chakravarthy</td>\n",
       "      <td>Telugu</td>\n",
       "      <td>5.7</td>\n",
       "      <td>1989</td>\n",
       "      <td>NR</td>\n",
       "      <td>153.0</td>\n",
       "    </tr>\n",
       "    <tr>\n",
       "      <th>5728</th>\n",
       "      <td>7647</td>\n",
       "      <td>Kundanapu Bomma</td>\n",
       "      <td>Telugu</td>\n",
       "      <td>5.3</td>\n",
       "      <td>2016</td>\n",
       "      <td>All</td>\n",
       "      <td>121.0</td>\n",
       "    </tr>\n",
       "    <tr>\n",
       "      <th>5743</th>\n",
       "      <td>7673</td>\n",
       "      <td>Bhargava Ramudu</td>\n",
       "      <td>Telugu</td>\n",
       "      <td>7.6</td>\n",
       "      <td>1987</td>\n",
       "      <td>All</td>\n",
       "      <td>135.0</td>\n",
       "    </tr>\n",
       "    <tr>\n",
       "      <th>5749</th>\n",
       "      <td>7679</td>\n",
       "      <td>Mangala Gowri</td>\n",
       "      <td>Telugu</td>\n",
       "      <td>1.9</td>\n",
       "      <td>1980</td>\n",
       "      <td>NR</td>\n",
       "      <td>120.0</td>\n",
       "    </tr>\n",
       "    <tr>\n",
       "      <th>5750</th>\n",
       "      <td>7680</td>\n",
       "      <td>Kalki</td>\n",
       "      <td>Telugu</td>\n",
       "      <td>6.9</td>\n",
       "      <td>2019</td>\n",
       "      <td>13+</td>\n",
       "      <td>139.0</td>\n",
       "    </tr>\n",
       "  </tbody>\n",
       "</table>\n",
       "<p>682 rows × 7 columns</p>\n",
       "</div>"
      ],
      "text/plain": [
       "        ID                           MOVIE_NAME  ... MATURITY_RATING  MINUTES\n",
       "4        4                                Hippi  ...             18+    140.0\n",
       "24      33                               Sketch  ...             13+    133.0\n",
       "69     101                            Surya IPS  ...              NR    143.0\n",
       "75     109  Universal Soldier: Day of Reckoning  ...             18+    105.0\n",
       "78     113                                 Dare  ...              NR    145.0\n",
       "...    ...                                  ...  ...             ...      ...\n",
       "5724  7643                  Ashoka Chakravarthy  ...              NR    153.0\n",
       "5728  7647                      Kundanapu Bomma  ...             All    121.0\n",
       "5743  7673                      Bhargava Ramudu  ...             All    135.0\n",
       "5749  7679                        Mangala Gowri  ...              NR    120.0\n",
       "5750  7680                                Kalki  ...             13+    139.0\n",
       "\n",
       "[682 rows x 7 columns]"
      ]
     },
     "execution_count": 11,
     "metadata": {
      "tags": []
     },
     "output_type": "execute_result"
    }
   ],
   "source": [
    "#Create a dataframe with only movies in Telugu\n",
    "df_telugu = df_clean[df_clean[\"LANGUAGE\"] == \"Telugu\"]\n",
    "df_telugu"
   ]
  },
  {
   "cell_type": "code",
   "execution_count": null,
   "metadata": {
    "colab": {
     "base_uri": "https://localhost:8080/"
    },
    "id": "0Mpzy2CfOTzO",
    "outputId": "ba904022-9d28-4ea2-e923-26c016fe2475"
   },
   "outputs": [
    {
     "data": {
      "text/plain": [
       "6.260557184750733"
      ]
     },
     "execution_count": 12,
     "metadata": {
      "tags": []
     },
     "output_type": "execute_result"
    }
   ],
   "source": [
    "#Average rating for movies in Telugu\n",
    "avg_telugu_rating = df_telugu[\"IMDB_RATING\"].mean()\n",
    "avg_telugu_rating"
   ]
  },
  {
   "cell_type": "code",
   "execution_count": null,
   "metadata": {
    "colab": {
     "base_uri": "https://localhost:8080/",
     "height": 419
    },
    "id": "CR3OYX15N5ar",
    "outputId": "9acd647b-226f-426b-9127-8e851233082d"
   },
   "outputs": [
    {
     "data": {
      "text/html": [
       "<div>\n",
       "<style scoped>\n",
       "    .dataframe tbody tr th:only-of-type {\n",
       "        vertical-align: middle;\n",
       "    }\n",
       "\n",
       "    .dataframe tbody tr th {\n",
       "        vertical-align: top;\n",
       "    }\n",
       "\n",
       "    .dataframe thead th {\n",
       "        text-align: right;\n",
       "    }\n",
       "</style>\n",
       "<table border=\"1\" class=\"dataframe\">\n",
       "  <thead>\n",
       "    <tr style=\"text-align: right;\">\n",
       "      <th></th>\n",
       "      <th>ID</th>\n",
       "      <th>MOVIE_NAME</th>\n",
       "      <th>LANGUAGE</th>\n",
       "      <th>IMDB_RATING</th>\n",
       "      <th>YEAR_OF_RELEASE</th>\n",
       "      <th>MATURITY_RATING</th>\n",
       "      <th>MINUTES</th>\n",
       "    </tr>\n",
       "  </thead>\n",
       "  <tbody>\n",
       "    <tr>\n",
       "      <th>8</th>\n",
       "      <td>10</td>\n",
       "      <td>Tum Se Achcha Kaun Hai</td>\n",
       "      <td>Hindi</td>\n",
       "      <td>4.5</td>\n",
       "      <td>2002</td>\n",
       "      <td>All</td>\n",
       "      <td>141.0</td>\n",
       "    </tr>\n",
       "    <tr>\n",
       "      <th>10</th>\n",
       "      <td>12</td>\n",
       "      <td>Ekkees Tareekh Shubh Muhurat</td>\n",
       "      <td>Hindi</td>\n",
       "      <td>5.7</td>\n",
       "      <td>2018</td>\n",
       "      <td>All</td>\n",
       "      <td>93.0</td>\n",
       "    </tr>\n",
       "    <tr>\n",
       "      <th>14</th>\n",
       "      <td>19</td>\n",
       "      <td>Jaani Dushman: Ek Anokhi Kahani</td>\n",
       "      <td>Hindi</td>\n",
       "      <td>2.8</td>\n",
       "      <td>2002</td>\n",
       "      <td>13+</td>\n",
       "      <td>152.0</td>\n",
       "    </tr>\n",
       "    <tr>\n",
       "      <th>20</th>\n",
       "      <td>27</td>\n",
       "      <td>Uss Din</td>\n",
       "      <td>Hindi</td>\n",
       "      <td>7.4</td>\n",
       "      <td>2010</td>\n",
       "      <td>18+</td>\n",
       "      <td>11.0</td>\n",
       "    </tr>\n",
       "    <tr>\n",
       "      <th>22</th>\n",
       "      <td>31</td>\n",
       "      <td>Kanhaiya Ek Yodha (Hindi)</td>\n",
       "      <td>Hindi</td>\n",
       "      <td>4.7</td>\n",
       "      <td>2019</td>\n",
       "      <td>13+</td>\n",
       "      <td>116.0</td>\n",
       "    </tr>\n",
       "    <tr>\n",
       "      <th>...</th>\n",
       "      <td>...</td>\n",
       "      <td>...</td>\n",
       "      <td>...</td>\n",
       "      <td>...</td>\n",
       "      <td>...</td>\n",
       "      <td>...</td>\n",
       "      <td>...</td>\n",
       "    </tr>\n",
       "    <tr>\n",
       "      <th>5737</th>\n",
       "      <td>7663</td>\n",
       "      <td>Nauker</td>\n",
       "      <td>Hindi</td>\n",
       "      <td>6.5</td>\n",
       "      <td>1979</td>\n",
       "      <td>All</td>\n",
       "      <td>122.0</td>\n",
       "    </tr>\n",
       "    <tr>\n",
       "      <th>5745</th>\n",
       "      <td>7675</td>\n",
       "      <td>Befikre</td>\n",
       "      <td>Hindi</td>\n",
       "      <td>3.9</td>\n",
       "      <td>2016</td>\n",
       "      <td>16+</td>\n",
       "      <td>130.0</td>\n",
       "    </tr>\n",
       "    <tr>\n",
       "      <th>5751</th>\n",
       "      <td>7681</td>\n",
       "      <td>Kabhi Khushi Kabhie Gham</td>\n",
       "      <td>Hindi</td>\n",
       "      <td>7.4</td>\n",
       "      <td>2001</td>\n",
       "      <td>All</td>\n",
       "      <td>209.0</td>\n",
       "    </tr>\n",
       "    <tr>\n",
       "      <th>5753</th>\n",
       "      <td>7684</td>\n",
       "      <td>Mamangam</td>\n",
       "      <td>Hindi</td>\n",
       "      <td>6.4</td>\n",
       "      <td>2019</td>\n",
       "      <td>13+</td>\n",
       "      <td>156.0</td>\n",
       "    </tr>\n",
       "    <tr>\n",
       "      <th>5754</th>\n",
       "      <td>7686</td>\n",
       "      <td>Gang Of Ghosts</td>\n",
       "      <td>Hindi</td>\n",
       "      <td>3.6</td>\n",
       "      <td>2014</td>\n",
       "      <td>13+</td>\n",
       "      <td>121.0</td>\n",
       "    </tr>\n",
       "  </tbody>\n",
       "</table>\n",
       "<p>1511 rows × 7 columns</p>\n",
       "</div>"
      ],
      "text/plain": [
       "        ID                       MOVIE_NAME  ... MATURITY_RATING  MINUTES\n",
       "8       10           Tum Se Achcha Kaun Hai  ...             All    141.0\n",
       "10      12     Ekkees Tareekh Shubh Muhurat  ...             All     93.0\n",
       "14      19  Jaani Dushman: Ek Anokhi Kahani  ...             13+    152.0\n",
       "20      27                          Uss Din  ...             18+     11.0\n",
       "22      31        Kanhaiya Ek Yodha (Hindi)  ...             13+    116.0\n",
       "...    ...                              ...  ...             ...      ...\n",
       "5737  7663                           Nauker  ...             All    122.0\n",
       "5745  7675                          Befikre  ...             16+    130.0\n",
       "5751  7681         Kabhi Khushi Kabhie Gham  ...             All    209.0\n",
       "5753  7684                         Mamangam  ...             13+    156.0\n",
       "5754  7686                   Gang Of Ghosts  ...             13+    121.0\n",
       "\n",
       "[1511 rows x 7 columns]"
      ]
     },
     "execution_count": 13,
     "metadata": {
      "tags": []
     },
     "output_type": "execute_result"
    }
   ],
   "source": [
    "#Create a dataframe with only movies in Hindi\n",
    "df_hindi = df_clean[df_clean[\"LANGUAGE\"] == \"Hindi\"]\n",
    "df_hindi"
   ]
  },
  {
   "cell_type": "code",
   "execution_count": null,
   "metadata": {
    "colab": {
     "base_uri": "https://localhost:8080/"
    },
    "id": "oMYcf9VROcuJ",
    "outputId": "ef0b2591-877b-496c-e10e-22ee4224dfa6"
   },
   "outputs": [
    {
     "data": {
      "text/plain": [
       "5.948775645268032"
      ]
     },
     "execution_count": 14,
     "metadata": {
      "tags": []
     },
     "output_type": "execute_result"
    }
   ],
   "source": [
    "#Average rating for movies in Hindi\n",
    "avg_hindi_rating = df_hindi[\"IMDB_RATING\"].mean()\n",
    "avg_hindi_rating"
   ]
  },
  {
   "cell_type": "code",
   "execution_count": null,
   "metadata": {
    "colab": {
     "base_uri": "https://localhost:8080/",
     "height": 419
    },
    "id": "tYmDNSv0N_F8",
    "outputId": "3bf516ba-9706-4a5c-c73f-2e00efe76fc6"
   },
   "outputs": [
    {
     "data": {
      "text/html": [
       "<div>\n",
       "<style scoped>\n",
       "    .dataframe tbody tr th:only-of-type {\n",
       "        vertical-align: middle;\n",
       "    }\n",
       "\n",
       "    .dataframe tbody tr th {\n",
       "        vertical-align: top;\n",
       "    }\n",
       "\n",
       "    .dataframe thead th {\n",
       "        text-align: right;\n",
       "    }\n",
       "</style>\n",
       "<table border=\"1\" class=\"dataframe\">\n",
       "  <thead>\n",
       "    <tr style=\"text-align: right;\">\n",
       "      <th></th>\n",
       "      <th>ID</th>\n",
       "      <th>MOVIE_NAME</th>\n",
       "      <th>LANGUAGE</th>\n",
       "      <th>IMDB_RATING</th>\n",
       "      <th>YEAR_OF_RELEASE</th>\n",
       "      <th>MATURITY_RATING</th>\n",
       "      <th>MINUTES</th>\n",
       "    </tr>\n",
       "  </thead>\n",
       "  <tbody>\n",
       "    <tr>\n",
       "      <th>0</th>\n",
       "      <td>0</td>\n",
       "      <td>John Rambo</td>\n",
       "      <td>Tamil</td>\n",
       "      <td>7.0</td>\n",
       "      <td>2008</td>\n",
       "      <td>18+</td>\n",
       "      <td>86.0</td>\n",
       "    </tr>\n",
       "    <tr>\n",
       "      <th>3</th>\n",
       "      <td>3</td>\n",
       "      <td>Love Birds</td>\n",
       "      <td>Tamil</td>\n",
       "      <td>5.1</td>\n",
       "      <td>1996</td>\n",
       "      <td>All</td>\n",
       "      <td>160.0</td>\n",
       "    </tr>\n",
       "    <tr>\n",
       "      <th>5</th>\n",
       "      <td>6</td>\n",
       "      <td>Ayyaa</td>\n",
       "      <td>Tamil</td>\n",
       "      <td>5.7</td>\n",
       "      <td>2005</td>\n",
       "      <td>All</td>\n",
       "      <td>159.0</td>\n",
       "    </tr>\n",
       "    <tr>\n",
       "      <th>17</th>\n",
       "      <td>24</td>\n",
       "      <td>300: Rise of an Empire</td>\n",
       "      <td>Tamil</td>\n",
       "      <td>6.2</td>\n",
       "      <td>2014</td>\n",
       "      <td>18+</td>\n",
       "      <td>102.0</td>\n",
       "    </tr>\n",
       "    <tr>\n",
       "      <th>32</th>\n",
       "      <td>44</td>\n",
       "      <td>Law Abiding Citizen</td>\n",
       "      <td>Tamil</td>\n",
       "      <td>7.4</td>\n",
       "      <td>2009</td>\n",
       "      <td>18+</td>\n",
       "      <td>104.0</td>\n",
       "    </tr>\n",
       "    <tr>\n",
       "      <th>...</th>\n",
       "      <td>...</td>\n",
       "      <td>...</td>\n",
       "      <td>...</td>\n",
       "      <td>...</td>\n",
       "      <td>...</td>\n",
       "      <td>...</td>\n",
       "      <td>...</td>\n",
       "    </tr>\n",
       "    <tr>\n",
       "      <th>5716</th>\n",
       "      <td>7632</td>\n",
       "      <td>Kannan Varuvaan</td>\n",
       "      <td>Tamil</td>\n",
       "      <td>6.0</td>\n",
       "      <td>2000</td>\n",
       "      <td>All</td>\n",
       "      <td>136.0</td>\n",
       "    </tr>\n",
       "    <tr>\n",
       "      <th>5730</th>\n",
       "      <td>7650</td>\n",
       "      <td>Thanimai</td>\n",
       "      <td>Tamil</td>\n",
       "      <td>4.4</td>\n",
       "      <td>2019</td>\n",
       "      <td>All</td>\n",
       "      <td>127.0</td>\n",
       "    </tr>\n",
       "    <tr>\n",
       "      <th>5740</th>\n",
       "      <td>7668</td>\n",
       "      <td>Chellamae</td>\n",
       "      <td>Tamil</td>\n",
       "      <td>6.2</td>\n",
       "      <td>2004</td>\n",
       "      <td>18+</td>\n",
       "      <td>155.0</td>\n",
       "    </tr>\n",
       "    <tr>\n",
       "      <th>5752</th>\n",
       "      <td>7683</td>\n",
       "      <td>Pithamagan</td>\n",
       "      <td>Tamil</td>\n",
       "      <td>8.3</td>\n",
       "      <td>2003</td>\n",
       "      <td>All</td>\n",
       "      <td>139.0</td>\n",
       "    </tr>\n",
       "    <tr>\n",
       "      <th>5756</th>\n",
       "      <td>7689</td>\n",
       "      <td>Black and Blue</td>\n",
       "      <td>Tamil</td>\n",
       "      <td>6.4</td>\n",
       "      <td>2019</td>\n",
       "      <td>18+</td>\n",
       "      <td>107.0</td>\n",
       "    </tr>\n",
       "  </tbody>\n",
       "</table>\n",
       "<p>584 rows × 7 columns</p>\n",
       "</div>"
      ],
      "text/plain": [
       "        ID              MOVIE_NAME  ... MATURITY_RATING  MINUTES\n",
       "0        0              John Rambo  ...             18+     86.0\n",
       "3        3              Love Birds  ...             All    160.0\n",
       "5        6                   Ayyaa  ...             All    159.0\n",
       "17      24  300: Rise of an Empire  ...             18+    102.0\n",
       "32      44     Law Abiding Citizen  ...             18+    104.0\n",
       "...    ...                     ...  ...             ...      ...\n",
       "5716  7632         Kannan Varuvaan  ...             All    136.0\n",
       "5730  7650                Thanimai  ...             All    127.0\n",
       "5740  7668               Chellamae  ...             18+    155.0\n",
       "5752  7683              Pithamagan  ...             All    139.0\n",
       "5756  7689          Black and Blue  ...             18+    107.0\n",
       "\n",
       "[584 rows x 7 columns]"
      ]
     },
     "execution_count": 15,
     "metadata": {
      "tags": []
     },
     "output_type": "execute_result"
    }
   ],
   "source": [
    "#Create a dataframe with only movies in Tamil\n",
    "df_tamil = df_clean[df_clean[\"LANGUAGE\"] == \"Tamil\"]\n",
    "df_tamil"
   ]
  },
  {
   "cell_type": "code",
   "execution_count": null,
   "metadata": {
    "colab": {
     "base_uri": "https://localhost:8080/"
    },
    "id": "B6mn1NhpOkIO",
    "outputId": "9a3337fa-c256-44c8-dbf9-0a39e2d50b2c"
   },
   "outputs": [
    {
     "data": {
      "text/plain": [
       "6.230993150684935"
      ]
     },
     "execution_count": 16,
     "metadata": {
      "tags": []
     },
     "output_type": "execute_result"
    }
   ],
   "source": [
    "#Average rating for movies in Tamil\n",
    "avg_tamil_rating = df_tamil[\"IMDB_RATING\"].mean()\n",
    "avg_tamil_rating"
   ]
  },
  {
   "cell_type": "code",
   "execution_count": null,
   "metadata": {
    "colab": {
     "base_uri": "https://localhost:8080/",
     "height": 295
    },
    "id": "NykfPJ23SBIC",
    "outputId": "29823f9e-fd90-4fc5-d4a7-00e2e3787e96"
   },
   "outputs": [
    {
     "data": {
      "image/png": "[encoded data removed]",
      "text/plain": [
       "<Figure size 432x288 with 1 Axes>"
      ]
     },
     "metadata": {
      "needs_background": "light",
      "tags": []
     },
     "output_type": "display_data"
    }
   ],
   "source": [
    "#Bar Chart showing IMDB Rating for movies in each language\n",
    "avg_rating = [avg_english_rating, avg_bengali_rating, avg_hindi_rating, avg_tamil_rating, avg_telugu_rating]\n",
    "avg_language = [\"English\", \"Bengali\", \"Hindi\", \"Tamil\", \"Telugu\"]\n",
    "\n",
    "plt.bar(avg_language, avg_rating, color=['yellow', 'red', 'green', 'blue', 'cyan'])\n",
    "plt.xlabel(\"Language\")\n",
    "plt.ylabel(\"IMDB Rating\")\n",
    "plt.title(\"Average Rating For Each Language\")\n",
    "\n",
    "plt.show()"
   ]
  },
  {
   "cell_type": "code",
   "execution_count": null,
   "metadata": {
    "colab": {
     "base_uri": "https://localhost:8080/",
     "height": 389
    },
    "id": "KSO5m-fVPl2i",
    "outputId": "d9530683-80af-42fe-c7fc-7189f40dbf4d"
   },
   "outputs": [
    {
     "name": "stderr",
     "output_type": "stream",
     "text": [
      "/usr/local/lib/python3.7/dist-packages/seaborn/distributions.py:2557: FutureWarning: `distplot` is a deprecated function and will be removed in a future version. Please adapt your code to use either `displot` (a figure-level function with similar flexibility) or `histplot` (an axes-level function for histograms).\n",
      "  warnings.warn(msg, FutureWarning)\n"
     ]
    },
    {
     "data": {
      "image/png": "[encoded data removed]",
      "text/plain": [
       "<Figure size 1080x360 with 1 Axes>"
      ]
     },
     "metadata": {
      "needs_background": "light",
      "tags": []
     },
     "output_type": "display_data"
    }
   ],
   "source": [
    "#Distribution chart shows that there are more Amazon Prime movies made in recent years as opposed to early years\n",
    "plt.figure(figsize = (15,5))\n",
    "ax = sns.distplot(df_clean['YEAR_OF_RELEASE'])"
   ]
  },
  {
   "cell_type": "code",
   "execution_count": null,
   "metadata": {
    "colab": {
     "base_uri": "https://localhost:8080/",
     "height": 296
    },
    "id": "yFxHpO0nQCi1",
    "outputId": "e5ff1050-5508-4583-9ee9-58ea97a00910"
   },
   "outputs": [
    {
     "data": {
      "text/plain": [
       "<matplotlib.axes._subplots.AxesSubplot at 0x7f68c3503550>"
      ]
     },
     "execution_count": 19,
     "metadata": {
      "tags": []
     },
     "output_type": "execute_result"
    },
    {
     "data": {
      "image/png": "[encoded data removed]",
      "text/plain": [
       "<Figure size 432x288 with 1 Axes>"
      ]
     },
     "metadata": {
      "needs_background": "light",
      "tags": []
     },
     "output_type": "display_data"
    }
   ],
   "source": [
    "sns.scatterplot(x=\"MINUTES\", y=\"IMDB_RATING\", data=df_clean)\n",
    "# Scatterplot has no linearity. No correlation between movie length and IMDb Rating. Movie length does not affect the whether or not a movies is highly rated."
   ]
  },
  {
   "cell_type": "code",
   "execution_count": null,
   "metadata": {
    "colab": {
     "base_uri": "https://localhost:8080/"
    },
    "id": "Vs-aCwMgRCG_",
    "outputId": "508efad5-73fe-43ac-ba58-baace88a77c1"
   },
   "outputs": [
    {
     "data": {
      "text/plain": [
       "Ttest_indResult(statistic=-9.980062713685909, pvalue=2.8808347617542417e-23)"
      ]
     },
     "execution_count": 20,
     "metadata": {
      "tags": []
     },
     "output_type": "execute_result"
    }
   ],
   "source": [
    "#Do movies have higher ratings when they are longer, or do they have higher ratings when they are shorter?\n",
    "#Is there a statistically significant difference in ratings between films longer than 100 minutes and shorter than 100 minutes\n",
    "#Ho: There is no difference in ratings for films longer and shorter than 100 minutes\n",
    "#Ha: There is a statistical difference in rating between longer and shorter films.\n",
    "\n",
    "long_films = df_clean.iloc[(df_clean['MINUTES'] <= 100).values]\n",
    "short_films = df_clean.iloc[(df_clean['MINUTES'] > 100).values]\n",
    "\n",
    "stats.ttest_ind(long_films['IMDB_RATING'], short_films['IMDB_RATING'])"
   ]
  },
  {
   "cell_type": "code",
   "execution_count": null,
   "metadata": {
    "colab": {
     "base_uri": "https://localhost:8080/"
    },
    "id": "T7L--SobTnQn",
    "outputId": "e29d4997-3b53-4a65-d514-a2991f402c1c"
   },
   "outputs": [
    {
     "data": {
      "text/plain": [
       "6.331042917500562"
      ]
     },
     "execution_count": 21,
     "metadata": {
      "tags": []
     },
     "output_type": "execute_result"
    }
   ],
   "source": [
    "#P-value < alpha at 0.05. Significant evidence to reject Ho.\n",
    "#There is a difference in film ratings between longer and shorter films\n",
    "#Which has the higher ratings?\n",
    "df_long_film = df_clean[df_clean[\"MINUTES\"] >= 100]\n",
    "df_long_film\n",
    "avg_long_film = df_long_film[\"IMDB_RATING\"].mean()\n",
    "avg_long_film\n"
   ]
  },
  {
   "cell_type": "code",
   "execution_count": null,
   "metadata": {
    "colab": {
     "base_uri": "https://localhost:8080/"
    },
    "id": "dfgMqSAmT_Xt",
    "outputId": "63cc8604-aa87-416f-9c60-628f25e0635d"
   },
   "outputs": [
    {
     "data": {
      "text/plain": [
       "5.917174959871591"
      ]
     },
     "execution_count": 22,
     "metadata": {
      "tags": []
     },
     "output_type": "execute_result"
    }
   ],
   "source": [
    "df_short_film = df_clean[df_clean[\"MINUTES\"] < 100]\n",
    "df_short_film\n",
    "avg_short_film = df_short_film[\"IMDB_RATING\"].mean()\n",
    "avg_short_film\n",
    "#Movies that are 100 minutes or longer has statistically higher ratings than movies less than 100 minutes"
   ]
  },
  {
   "cell_type": "code",
   "execution_count": null,
   "metadata": {
    "colab": {
     "base_uri": "https://localhost:8080/",
     "height": 295
    },
    "id": "BIeoMsPt3u_V",
    "outputId": "c75431fc-4392-43ab-bb40-1a1d459c7df2"
   },
   "outputs": [
    {
     "data": {
      "image/png": "[encoded data removed]",
      "text/plain": [
       "<Figure size 432x288 with 1 Axes>"
      ]
     },
     "metadata": {
      "needs_background": "light",
      "tags": []
     },
     "output_type": "display_data"
    }
   ],
   "source": [
    "x_axis = [\"Short Film\", \"Long Film\"]\n",
    "y_axis = [avg_short_film, avg_long_film ]\n",
    "plt.bar(x_axis, y_axis, color=['yellow', 'red'])\n",
    "plt.xlabel(\"Movie Length\")\n",
    "plt.ylabel(\"IMDB Rating\")\n",
    "plt.title(\"Ratings for Long Versus Short Film\")\n",
    "\n",
    "plt.show()"
   ]
  },
  {
   "cell_type": "code",
   "execution_count": null,
   "metadata": {
    "colab": {
     "base_uri": "https://localhost:8080/",
     "height": 296
    },
    "id": "vwn3r_XtUuq9",
    "outputId": "7f2e0915-41d9-4149-b94c-c21c3e24ca8b"
   },
   "outputs": [
    {
     "data": {
      "text/plain": [
       "<matplotlib.axes._subplots.AxesSubplot at 0x7f68c344f350>"
      ]
     },
     "execution_count": 23,
     "metadata": {
      "tags": []
     },
     "output_type": "execute_result"
    },
    {
     "data": {
      "image/png": "[encoded data removed]",
      "text/plain": [
       "<Figure size 432x288 with 1 Axes>"
      ]
     },
     "metadata": {
      "needs_background": "light",
      "tags": []
     },
     "output_type": "display_data"
    }
   ],
   "source": [
    "sns.boxplot(y=\"IMDB_RATING\", hue=\"MATURITY_RATING\", x=\"MINUTES\", data=df_clean)"
   ]
  }
 ],
 "metadata": {
  "colab": {
   "collapsed_sections": [],
   "name": "Amazon Movie Jump Project",
   "provenance": []
  },
  "kernelspec": {
   "display_name": "Python 3",
   "language": "python",
   "name": "python3"
  },
  "language_info": {
   "codemirror_mode": {
    "name": "ipython",
    "version": 3
   },
   "file_extension": ".py",
   "mimetype": "text/x-python",
   "name": "python",
   "nbconvert_exporter": "python",
   "pygments_lexer": "ipython3",
   "version": "3.8.5"
  }
 },
 "nbformat": 4,
 "nbformat_minor": 1
}
